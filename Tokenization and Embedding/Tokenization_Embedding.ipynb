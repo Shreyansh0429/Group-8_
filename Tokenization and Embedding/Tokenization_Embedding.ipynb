{
 "cells": [
  {
   "cell_type": "code",
   "execution_count": 1,
   "id": "ad477712",
   "metadata": {},
   "outputs": [],
   "source": [
    "import pandas as pd"
   ]
  },
  {
   "cell_type": "code",
   "execution_count": 2,
   "id": "9901609b",
   "metadata": {},
   "outputs": [
    {
     "data": {
      "text/plain": [
       "'C:\\\\Users\\\\shrey\\\\Downloads'"
      ]
     },
     "execution_count": 2,
     "metadata": {},
     "output_type": "execute_result"
    }
   ],
   "source": [
    "pwd"
   ]
  },
  {
   "cell_type": "code",
   "execution_count": 3,
   "id": "8965dad5",
   "metadata": {},
   "outputs": [],
   "source": [
    "df = pd.read_csv(\"Preprocessed_cleaned_Final_dataset.csv\")"
   ]
  },
  {
   "cell_type": "code",
   "execution_count": 4,
   "id": "9ca9bdc2",
   "metadata": {},
   "outputs": [
    {
     "name": "stdout",
     "output_type": "stream",
     "text": [
      "<class 'pandas.core.frame.DataFrame'>\n",
      "RangeIndex: 9310 entries, 0 to 9309\n",
      "Data columns (total 5 columns):\n",
      " #   Column        Non-Null Count  Dtype \n",
      "---  ------        --------------  ----- \n",
      " 0   Text          9310 non-null   object\n",
      " 1   IsHatespeech  9310 non-null   int64 \n",
      " 2   tokens        9310 non-null   object\n",
      " 3   clean_text    9307 non-null   object\n",
      " 4   text_length   9310 non-null   int64 \n",
      "dtypes: int64(2), object(3)\n",
      "memory usage: 363.8+ KB\n"
     ]
    }
   ],
   "source": [
    "df.info()"
   ]
  },
  {
   "cell_type": "markdown",
   "id": "6f8fc3e4",
   "metadata": {},
   "source": [
    "### Word Tokenization\n",
    "#### Word tokenization is the process of splitting a string of text into individual words or tokens. It is a fundamental step in natural language processing (NLP) and text mining tasks. By breaking down text into words, it allows for more detailed and granular analysis."
   ]
  },
  {
   "cell_type": "code",
   "execution_count": 5,
   "id": "c36f26aa",
   "metadata": {},
   "outputs": [
    {
     "data": {
      "text/plain": [
       "0    ['frustratingly', 'small', 'please', 'find', '...\n",
       "1    ['padding', 'cell', 'padding', 'class', 'mainp...\n",
       "2    ['scenario', 'present', 'see', 'believe', 'peo...\n",
       "3    ['go', 'inside', 'tomorrow', 'hate', 'every', ...\n",
       "4    ['retweet', 'china', 'bird', 'flu', 'outbreak'...\n",
       "Name: tokens, dtype: object"
      ]
     },
     "execution_count": 5,
     "metadata": {},
     "output_type": "execute_result"
    }
   ],
   "source": [
    "df['tokens'].head()"
   ]
  },
  {
   "cell_type": "code",
   "execution_count": 6,
   "id": "ce32e86e",
   "metadata": {},
   "outputs": [
    {
     "data": {
      "text/html": [
       "<div>\n",
       "<style scoped>\n",
       "    .dataframe tbody tr th:only-of-type {\n",
       "        vertical-align: middle;\n",
       "    }\n",
       "\n",
       "    .dataframe tbody tr th {\n",
       "        vertical-align: top;\n",
       "    }\n",
       "\n",
       "    .dataframe thead th {\n",
       "        text-align: right;\n",
       "    }\n",
       "</style>\n",
       "<table border=\"1\" class=\"dataframe\">\n",
       "  <thead>\n",
       "    <tr style=\"text-align: right;\">\n",
       "      <th></th>\n",
       "      <th>Text</th>\n",
       "      <th>IsHatespeech</th>\n",
       "      <th>tokens</th>\n",
       "      <th>clean_text</th>\n",
       "      <th>text_length</th>\n",
       "    </tr>\n",
       "  </thead>\n",
       "  <tbody>\n",
       "    <tr>\n",
       "      <th>0</th>\n",
       "      <td>frustratingly small please find an image at le...</td>\n",
       "      <td>0</td>\n",
       "      <td>['frustratingly', 'small', 'please', 'find', '...</td>\n",
       "      <td>frustratingly small please find image least pi...</td>\n",
       "      <td>117</td>\n",
       "    </tr>\n",
       "    <tr>\n",
       "      <th>1</th>\n",
       "      <td>padding cell padding class mainpagebg solid ve...</td>\n",
       "      <td>0</td>\n",
       "      <td>['padding', 'cell', 'padding', 'class', 'mainp...</td>\n",
       "      <td>padding cell padding class mainpagebg solid ve...</td>\n",
       "      <td>1192</td>\n",
       "    </tr>\n",
       "    <tr>\n",
       "      <th>2</th>\n",
       "      <td>from the scenarios you present i see you belie...</td>\n",
       "      <td>0</td>\n",
       "      <td>['scenario', 'present', 'see', 'believe', 'peo...</td>\n",
       "      <td>scenario present see believe people robot abra...</td>\n",
       "      <td>560</td>\n",
       "    </tr>\n",
       "  </tbody>\n",
       "</table>\n",
       "</div>"
      ],
      "text/plain": [
       "                                                Text  IsHatespeech  \\\n",
       "0  frustratingly small please find an image at le...             0   \n",
       "1  padding cell padding class mainpagebg solid ve...             0   \n",
       "2  from the scenarios you present i see you belie...             0   \n",
       "\n",
       "                                              tokens  \\\n",
       "0  ['frustratingly', 'small', 'please', 'find', '...   \n",
       "1  ['padding', 'cell', 'padding', 'class', 'mainp...   \n",
       "2  ['scenario', 'present', 'see', 'believe', 'peo...   \n",
       "\n",
       "                                          clean_text  text_length  \n",
       "0  frustratingly small please find image least pi...          117  \n",
       "1  padding cell padding class mainpagebg solid ve...         1192  \n",
       "2  scenario present see believe people robot abra...          560  "
      ]
     },
     "execution_count": 6,
     "metadata": {},
     "output_type": "execute_result"
    }
   ],
   "source": [
    "df.head(3)"
   ]
  },
  {
   "cell_type": "markdown",
   "id": "dae6b569",
   "metadata": {},
   "source": [
    "### Word2Vec Embeddings\n",
    "#### Pros:\n",
    "\n",
    "#### Captures semantic relationships between words.\n",
    "#### Creates dense, low-dimensional representations.\n",
    "#### Effective for deep learning models and tasks requiring word similarity and analogy."
   ]
  },
  {
   "cell_type": "code",
   "execution_count": 7,
   "id": "643632ce",
   "metadata": {},
   "outputs": [
    {
     "name": "stdout",
     "output_type": "stream",
     "text": [
      "Word2Vec Embeddings:\n",
      "                                              clean_text  \\\n",
      "0     frustratingly small please find image least pi...   \n",
      "1     padding cell padding class mainpagebg solid ve...   \n",
      "2     scenario present see believe people robot abra...   \n",
      "3     go inside tomorrow hate every time feel cheap ...   \n",
      "4     retweet china bird flu outbreak good sign bad ...   \n",
      "...                                                 ...   \n",
      "9305  chastity really quality girl woman grow associ...   \n",
      "9306  wow like folk riding subway today woman like m...   \n",
      "9307                                        mean nigger   \n",
      "9308  let know girl run shit round sexist believe sh...   \n",
      "9309  gavin williamson still still work department e...   \n",
      "\n",
      "                                               word2vec  \n",
      "0     [-0.119547114, 0.017391607, -0.13664296, 0.096...  \n",
      "1     [-0.11867098, 0.028431285, -0.1392278, 0.09403...  \n",
      "2     [-0.12058537, 0.03158889, -0.13401146, 0.11639...  \n",
      "3     [-0.16566682, 0.04605666, -0.15646449, 0.13682...  \n",
      "4     [-0.14393929, 0.082737274, -0.13627641, 0.1357...  \n",
      "...                                                 ...  \n",
      "9305  [-0.12048125, 0.056763105, -0.14338069, 0.1223...  \n",
      "9306  [-0.12335924, 0.055629168, -0.12590572, 0.1331...  \n",
      "9307  [-0.20030871, 0.12844414, -0.077404134, 0.1322...  \n",
      "9308  [-0.12875906, 0.055337604, -0.14182167, 0.1298...  \n",
      "9309  [-0.12347612, 0.036945578, -0.13349037, 0.0992...  \n",
      "\n",
      "[9310 rows x 2 columns]\n"
     ]
    }
   ],
   "source": [
    "from gensim.models import Word2Vec\n",
    "from nltk.tokenize import word_tokenize\n",
    "import numpy as np\n",
    "\n",
    "\n",
    "word2vec_model = Word2Vec(sentences=df['tokens'], vector_size=100, window=5, min_count=1, workers=4)\n",
    "\n",
    "def average_word_vectors(tokens, model, num_features):\n",
    "    feature_vec = np.zeros((num_features,), dtype=\"float32\")\n",
    "    n_words = 0\n",
    "    for word in tokens:\n",
    "        if word in model.wv:\n",
    "            n_words += 1\n",
    "            feature_vec = np.add(feature_vec, model.wv[word])\n",
    "    if n_words > 0:\n",
    "        feature_vec = np.divide(feature_vec, n_words)\n",
    "    return feature_vec\n",
    "\n",
    "df['word2vec'] = df['tokens'].apply(lambda tokens: average_word_vectors(tokens, word2vec_model, 100))\n",
    "\n",
    "print(\"Word2Vec Embeddings:\\n\", df[['clean_text', 'word2vec']])\n"
   ]
  },
  {
   "cell_type": "code",
   "execution_count": 11,
   "id": "6fe066f7",
   "metadata": {},
   "outputs": [
    {
     "name": "stdout",
     "output_type": "stream",
     "text": [
      "[-0.11867098  0.02843129 -0.1392278   0.09403382 -0.22485183 -0.07969432\n",
      "  0.4322987   0.30697566  0.03423383  0.21524046  0.19655149  0.3932956\n",
      "  0.05345165 -0.17323622 -0.3242236   0.09726483 -0.28174773 -0.22195601\n",
      "  0.00302462  0.68216306  0.08207386  0.11479293  0.18207687  0.14174277\n",
      " -0.13433623 -0.3283925   0.31476483 -0.08079311  0.01802469 -0.18855911\n",
      "  0.04345749 -0.29866287  0.2115429  -0.19996466 -0.0247303   0.0459272\n",
      "  0.50971526 -0.02311499  0.05786419 -0.21057622 -0.08453827  0.33512622\n",
      " -0.13532074 -0.17212331  0.27236104  0.00782552 -0.29949874  0.35092297\n",
      "  0.27169043 -0.03685095 -0.27259758  0.29573256  0.03451292 -0.3256595\n",
      "  0.10168194 -0.15174487  0.04713284 -0.24815488  0.098003   -0.10764467\n",
      "  0.10670893 -0.00379638  0.21655838 -0.1734427  -0.10341261  0.04410021\n",
      "  0.03060368  0.50089914 -0.2817654  -0.0493636   0.12134843 -0.00117335\n",
      "  0.17823125 -0.04143201 -0.20624149 -0.252618   -0.33880746 -0.03060926\n",
      " -0.17954807 -0.15151249  0.15772684 -0.12859192  0.5046308  -0.03781382\n",
      "  0.01117195 -0.24850373  0.11217499  0.3614105  -0.37511384 -0.11125639\n",
      "  0.14912133 -0.13544962  0.02910895  0.02099949  0.18103729 -0.01909894\n",
      " -0.38239488  0.12644348  0.3638547  -0.20994596]\n"
     ]
    }
   ],
   "source": [
    "print(df['word2vec'].iloc[1])"
   ]
  },
  {
   "cell_type": "code",
   "execution_count": 21,
   "id": "438b4e65",
   "metadata": {},
   "outputs": [
    {
     "name": "stdout",
     "output_type": "stream",
     "text": [
      "<class 'pandas.core.frame.DataFrame'>\n",
      "RangeIndex: 9310 entries, 0 to 9309\n",
      "Data columns (total 6 columns):\n",
      " #   Column        Non-Null Count  Dtype \n",
      "---  ------        --------------  ----- \n",
      " 0   Text          9310 non-null   object\n",
      " 1   IsHatespeech  9310 non-null   int64 \n",
      " 2   tokens        9310 non-null   object\n",
      " 3   clean_text    9307 non-null   object\n",
      " 4   text_length   9310 non-null   int64 \n",
      " 5   word2vec      9310 non-null   object\n",
      "dtypes: int64(2), object(4)\n",
      "memory usage: 436.5+ KB\n"
     ]
    }
   ],
   "source": [
    "df.info()"
   ]
  },
  {
   "cell_type": "code",
   "execution_count": 12,
   "id": "0306371a",
   "metadata": {},
   "outputs": [],
   "source": [
    "df.to_csv(\"Embedded_df.csv\",index=False)"
   ]
  },
  {
   "cell_type": "code",
   "execution_count": null,
   "id": "cd7c415d",
   "metadata": {},
   "outputs": [],
   "source": []
  }
 ],
 "metadata": {
  "kernelspec": {
   "display_name": "Python 3 (ipykernel)",
   "language": "python",
   "name": "python3"
  },
  "language_info": {
   "codemirror_mode": {
    "name": "ipython",
    "version": 3
   },
   "file_extension": ".py",
   "mimetype": "text/x-python",
   "name": "python",
   "nbconvert_exporter": "python",
   "pygments_lexer": "ipython3",
   "version": "3.9.12"
  }
 },
 "nbformat": 4,
 "nbformat_minor": 5
}
